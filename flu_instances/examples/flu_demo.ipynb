{
 "cells": [
  {
   "cell_type": "markdown",
   "id": "42ab1932-d72e-45f2-b27e-c628c62d08a1",
   "metadata": {},
   "source": [
    "# Overview"
   ]
  },
  {
   "cell_type": "markdown",
   "id": "5884588d-2b40-45ff-adcd-94dfd0fc0463",
   "metadata": {},
   "source": [
    "Simple demo with flu model with \"toy\" (not necessarily realistic or finalized) parameters\n",
    "\n",
    "We go over\n",
    "- How to set up subpopulation models and metapopulation models.\n",
    "- How to run accept-reject algorithm.\n",
    "- How to run experiments to organize output of multiple replications. "
   ]
  },
  {
   "cell_type": "markdown",
   "id": "01e5a95f-6833-4723-b369-e03eb1f64025",
   "metadata": {},
   "source": [
    "# Imports"
   ]
  },
  {
   "cell_type": "code",
   "execution_count": 1,
   "id": "8948cfc7-d6fa-45b3-b98d-c7f81379ceec",
   "metadata": {},
   "outputs": [],
   "source": [
    "# Misc: suppress SSE4.2 deprecation warnings\n",
    "# This is not an error, just a warning about future hardware compatibility (not relevant in general)\n",
    "import os\n",
    "os.environ[\"MKL_DEBUG_CPU_TYPE\"] = \"5\" \n",
    "\n",
    "from pathlib import Path\n",
    "import numpy as np\n",
    "import pandas as pd\n",
    "\n",
    "# Import city-level transmission base components module\n",
    "import clt_toolkit as clt\n",
    "\n",
    "# Import flu model module, which contains customized subclasses\n",
    "import flu_core as flu\n",
    "\n",
    "import json"
   ]
  },
  {
   "cell_type": "markdown",
   "id": "71a20de2-2c0a-4d20-bcf6-af57f2a8a30f",
   "metadata": {},
   "source": [
    "# Reading Input Files"
   ]
  },
  {
   "cell_type": "code",
   "execution_count": 2,
   "id": "00b59007-7bde-4453-b6bd-943e7ad2e6b8",
   "metadata": {},
   "outputs": [],
   "source": [
    "# Note that this can be cumbersome due to the complexity of the model \n",
    "# Users may prefer to create the model inputs or even the models themselves in a separate .py file and import them! \n",
    "\n",
    "# Obtain path to folder with JSON input files\n",
    "base_path = clt.utils.PROJECT_ROOT / \"flu_instances\" / \"texas_input_files\"\n",
    "\n",
    "# Get filepaths\n",
    "compartments_epi_metrics_init_vals_filepath = base_path / \"init_vals.json\"\n",
    "subpop_params_filepath = base_path / \"common_subpop_params.json\"\n",
    "mixing_params_filepath = base_path / \"mixing_params.json\"\n",
    "simulation_settings_filepath = base_path / \"simulation_settings.json\"\n",
    "\n",
    "calendar_df = pd.read_csv(base_path / \"school_work_calendar.csv\", index_col=0)\n",
    "humidity_df = pd.read_csv(base_path / \"absolute_humidity_austin_2023_2024.csv\", index_col=0)\n",
    "vaccines_df = pd.read_csv(base_path / \"daily_vaccines_constant.csv\", index_col=0)\n",
    "\n",
    "schedules_info = flu.FluSubpopSchedules(absolute_humidity=humidity_df,\n",
    "                                        flu_contact_matrix=calendar_df,\n",
    "                                        daily_vaccines=vaccines_df)\n",
    "\n",
    "# Read in files as dictionaries and dataframes.\n",
    "# Note that we can also create these dictionaries directly\n",
    "#   rather than reading from a predefined input data file.\n",
    "state = clt.make_dataclass_from_json(compartments_epi_metrics_init_vals_filepath,\n",
    "                                     flu.FluSubpopState)\n",
    "params = clt.make_dataclass_from_json(subpop_params_filepath, flu.FluSubpopParams)\n",
    "mixing_params = clt.make_dataclass_from_json(mixing_params_filepath, flu.FluMixingParams)\n",
    "settings = clt.make_dataclass_from_json(simulation_settings_filepath, flu.SimulationSettings)\n",
    "\n",
    "# Create two independent bit generators\n",
    "bit_generator = np.random.MT19937(88888)\n",
    "jumped_bit_generator = bit_generator.jumped(1)"
   ]
  },
  {
   "cell_type": "markdown",
   "id": "d1ab0b6c-6e75-4473-9e86-dac59e2d44fe",
   "metadata": {},
   "source": [
    "# Creating Subpopulation Models"
   ]
  },
  {
   "cell_type": "code",
   "execution_count": 3,
   "id": "9b601dd8-4d09-4bbb-a1e9-3b7d689b48fe",
   "metadata": {},
   "outputs": [],
   "source": [
    "# Create two subpopulation models, one for the north\n",
    "#   side of the city and one for the south side of the city\n",
    "# In this case, these two (toy) subpopulations have the\n",
    "#   same demographics, initial compartment and epi metric values,\n",
    "#   fixed parameters, and school-work calendar.\n",
    "# If we wanted the \"north\" subpopulation and \"south\"\n",
    "#   subpopulation to have different aforementioned values,\n",
    "#   we could read in two separate sets of files -- one\n",
    "#   for each subpopulation.\n",
    "north = flu.FluSubpopModel(state,\n",
    "                           params,\n",
    "                           settings,\n",
    "                           np.random.Generator(bit_generator),\n",
    "                           schedules_info,\n",
    "                           name=\"north\")\n",
    "\n",
    "south = flu.FluSubpopModel(state,\n",
    "                           params,\n",
    "                           settings,\n",
    "                           np.random.Generator(jumped_bit_generator),\n",
    "                           schedules_info,\n",
    "                           name=\"south\")\n",
    "\n",
    "# If a metapopulation model has N subpopulations that have most of their parameters in common,\n",
    "#    users can make a JSON file with common parameters, and N smaller JSON files with\n",
    "#    parameters that are specific to each subpopulation.\n",
    "# We recommend using `clt_toolkit / utils` functions `updated_dataclass()` and `updated_dict()` for this."
   ]
  },
  {
   "cell_type": "markdown",
   "id": "9a4aabdc-9883-4e45-a371-199b7145de25",
   "metadata": {},
   "source": [
    "# Modifying Parameters"
   ]
  },
  {
   "cell_type": "code",
   "execution_count": 4,
   "id": "a78193bf-7989-4779-91ab-5772771f7375",
   "metadata": {},
   "outputs": [
    {
     "name": "stdout",
     "output_type": "stream",
     "text": [
      "10\n"
     ]
    }
   ],
   "source": [
    "# We can also manually change a fixed parameter value\n",
    "#   after we have created a SubpopModel -- like so...\n",
    "# Note that this is quite a large and unrealistic value of\n",
    "#   beta_baseline, but we'll use this to create\n",
    "#   a dramatic difference between the two subpopulations.\n",
    "south.params = clt.updated_dataclass(south.params, {\"beta_baseline\": 10})\n",
    "\n",
    "# The structure of the code allows us to access\n",
    "#   the current state and fixed parameters of each\n",
    "#   subpopulation model.\n",
    "# For example, here we print out the fixed parameter\n",
    "#   value for beta_baseline for the \"south\" subpopulation.\n",
    "print(south.params.beta_baseline)"
   ]
  },
  {
   "cell_type": "markdown",
   "id": "eef0842e-bab0-4be0-a65a-9f48b7e6cfa9",
   "metadata": {},
   "source": [
    "# Create Metapopulation Model"
   ]
  },
  {
   "cell_type": "code",
   "execution_count": 5,
   "id": "f44aa524-3dc7-4010-9863-f0fc5b89585e",
   "metadata": {},
   "outputs": [],
   "source": [
    "# Combine two subpopulations into one metapopulation model (travel model)\n",
    "flu_demo_model = flu.FluMetapopModel([north, south],\n",
    "                                     mixing_params)"
   ]
  },
  {
   "cell_type": "markdown",
   "id": "f7a1c0e4-76e4-4d89-ab43-a8d67776cbec",
   "metadata": {},
   "source": [
    "# Simulation and Analysis"
   ]
  },
  {
   "cell_type": "code",
   "execution_count": 6,
   "id": "b3aa79bb-11df-47fc-b581-70849b26ca1a",
   "metadata": {},
   "outputs": [
    {
     "name": "stdout",
     "output_type": "stream",
     "text": [
      "Intel MKL WARNING: Support of Intel(R) Streaming SIMD Extensions 4.2 (Intel(R) SSE4.2) enabled only processors has been deprecated. Intel oneAPI Math Kernel Library 2025.0 will require Intel(R) Advanced Vector Extensions (Intel(R) AVX) instructions.\n",
      "50\n",
      "2022-09-27\n"
     ]
    }
   ],
   "source": [
    "# Simulate for 50 days\n",
    "flu_demo_model.simulate_until_day(50)\n",
    "\n",
    "# Get the current real date of the simulation and the\n",
    "#   current simulation day\n",
    "print(flu_demo_model.current_simulation_day)\n",
    "print(flu_demo_model.current_real_date)"
   ]
  },
  {
   "cell_type": "code",
   "execution_count": 7,
   "id": "8fea54fb-2b4b-4bc5-805e-e57b1edde0af",
   "metadata": {},
   "outputs": [
    {
     "name": "stdout",
     "output_type": "stream",
     "text": [
      "FluSubpopState(S=array([[ 224479.],\n",
      "       [ 361909.],\n",
      "       [1136938.],\n",
      "       [ 504254.],\n",
      "       [ 616566.]]), E=array([[ 143018.0000071 ],\n",
      "       [ 452720.        ],\n",
      "       [1062292.        ],\n",
      "       [ 400290.00000031],\n",
      "       [ 299275.00000238]]), IP=array([[ 19397.66020355],\n",
      "       [ 61392.98684111],\n",
      "       [144062.83722082],\n",
      "       [ 54286.42316793],\n",
      "       [ 40592.51007934]]), IS=array([[ 40988.95971282],\n",
      "       [129602.50788896],\n",
      "       [304246.41969418],\n",
      "       [114719.72735797],\n",
      "       [ 86744.85055497]]), IA=array([[ 20297.95971225],\n",
      "       [ 64232.42294914],\n",
      "       [150736.41969418],\n",
      "       [ 56804.72647801],\n",
      "       [ 42482.90575631]]), H=array([[ 124.76766706],\n",
      "       [ 185.67067381],\n",
      "       [ 791.61477608],\n",
      "       [ 499.64488481],\n",
      "       [3787.53341619]]), R=array([[ 1465719.22501648],\n",
      "       [ 4556980.84235822],\n",
      "       [10763955.78230235],\n",
      "       [ 4074170.05193184],\n",
      "       [ 3103618.18447355]]), D=array([[   6.55250789],\n",
      "       [   6.55250789],\n",
      "       [   6.55250789],\n",
      "       [   6.55250789],\n",
      "       [1962.13643149]]), M=array([[0.87527918],\n",
      "       [0.89689879],\n",
      "       [0.88837264],\n",
      "       [0.88292229],\n",
      "       [0.85976885]]), MV=array([[0.00430713],\n",
      "       [0.00146506],\n",
      "       [0.00060782],\n",
      "       [0.00158384],\n",
      "       [0.00196517]]), absolute_humidity=0.008722113, flu_contact_matrix=array([[ 1.41415435,  2.37024572,  3.83356137,  0.71327459,  0.35347632],\n",
      "       [ 1.00728934, 10.60466906,  4.14690412,  1.08705454,  0.40621624],\n",
      "       [ 0.70293355,  1.76839296,  7.78559557,  2.11908831,  0.55215071],\n",
      "       [ 0.33809671,  1.19880912,  5.48841938,  3.16470291,  0.76774731],\n",
      "       [ 0.27421269,  0.7469776 ,  2.39706181,  1.21965752,  2.01500593]]), beta_reduce=0.0, daily_vaccines=100)\n"
     ]
    }
   ],
   "source": [
    "# Simulate for another 50 days, from where we last left off\n",
    "flu_demo_model.simulate_until_day(100)\n",
    "\n",
    "# We can \"unpack\" our flu model and access the current state\n",
    "#   of each subpopulation -- here's an example with the \"north\"\n",
    "#   subpopulation -- this is the state after we have simulated\n",
    "#   our 100 days.\n",
    "print(flu_demo_model.north.state)\n",
    "\n",
    "# This is equivalent to calling `flu_demo_model.subpop_models.north.state`.\n",
    "# Under the hood, CLT Toolkit uses \"attribute delegation\" to make the syntax easier and avoid nested attribute calls."
   ]
  },
  {
   "cell_type": "code",
   "execution_count": 8,
   "id": "ec0c554d-3f75-43f5-ba64-ce24518db58f",
   "metadata": {},
   "outputs": [
    {
     "name": "stdout",
     "output_type": "stream",
     "text": [
      "#0. 'S':  <clt_toolkit.base_components.Compartment object at 0x180bd8f50>\n",
      "#1. 'E':  <clt_toolkit.base_components.Compartment object at 0x177382ad0>\n",
      "#2. 'IP': <clt_toolkit.base_components.Compartment object at 0x180bd9810>\n",
      "#3. 'IS': <clt_toolkit.base_components.Compartment object at 0x1752c6fd0>\n",
      "#4. 'IA': <clt_toolkit.base_components.Compartment object at 0x180bd8f90>\n",
      "#5. 'H':  <clt_toolkit.base_components.Compartment object at 0x180489d90>\n",
      "#6. 'R':  <clt_toolkit.base_components.Compartment object at 0x180bd8c10>\n",
      "#7. 'D':  <clt_toolkit.base_components.Compartment object at 0x10db76cd0>\n"
     ]
    }
   ],
   "source": [
    "# Remember that we can easily access the objects that\n",
    "#   make up our subpopulation model -- here's an\n",
    "#   example of accessing the \"north\" subpopulation's\n",
    "#   compartments.\n",
    "# See API references for more attribute access syntax.\n",
    "print(flu_demo_model.subpop_models.north.compartments)"
   ]
  },
  {
   "cell_type": "code",
   "execution_count": 9,
   "id": "0ef54f51-8a31-4c11-b757-dba05e6f20b4",
   "metadata": {},
   "outputs": [
    {
     "name": "stdout",
     "output_type": "stream",
     "text": [
      "[[ 224479.]\n",
      " [ 361909.]\n",
      " [1136938.]\n",
      " [ 504254.]\n",
      " [ 616566.]]\n"
     ]
    }
   ],
   "source": [
    "# Here's the current state of the \"S\" compartment for the \"north\" subpopulation\n",
    "print(flu_demo_model.north.S.current_val)\n",
    "\n",
    "# Again, due to attribute delegation, this syntax is equivalent to\n",
    "# flu_demo_model.subpop_models.north.compartments.S.current_val"
   ]
  },
  {
   "cell_type": "code",
   "execution_count": 10,
   "id": "5c0e8cf6-8f53-485f-9bcd-84da258d8fc6",
   "metadata": {},
   "outputs": [
    {
     "data": {
      "image/png": "[encoded data removed]",
      "text/plain": [
       "<Figure size 1000x400 with 2 Axes>"
      ]
     },
     "metadata": {},
     "output_type": "display_data"
    }
   ],
   "source": [
    "# Generate simple compartment history plot for flu model\n",
    "clt.plot_metapop_basic_compartment_history(flu_demo_model)"
   ]
  },
  {
   "cell_type": "code",
   "execution_count": 11,
   "id": "53b75eaf-c7aa-4454-97fd-16f79992a27e",
   "metadata": {},
   "outputs": [
    {
     "data": {
      "image/png": "[encoded data removed]",
      "text/plain": [
       "<Figure size 1000x400 with 2 Axes>"
      ]
     },
     "metadata": {},
     "output_type": "display_data"
    }
   ],
   "source": [
    "# Reset the simulation\n",
    "# Note -- does NOT reset the RNG! Only clears each object's\n",
    "#   history, resets the simulation day/date to the starting\n",
    "#   day/date, and returns state variables to their initial values.\n",
    "flu_demo_model.reset_simulation()\n",
    "\n",
    "# Set school and work contact matrices to zero matrices for both\n",
    "#   subpopulations and demonstrate that this removes the calendar-induced\n",
    "#   periodicity.\n",
    "num_age_groups = flu_demo_model.subpop_models.north.params.num_age_groups\n",
    "\n",
    "for subpop_model in flu_demo_model.subpop_models.values():\n",
    "    subpop_model.params = clt.updated_dataclass(subpop_model.params,\n",
    "                                                {\"school_contact_matrix\": np.zeros((num_age_groups, num_age_groups)),\n",
    "                                                 \"work_contact_matrix\": np.zeros((num_age_groups, num_age_groups))})\n",
    "\n",
    "flu_demo_model.simulate_until_day(100)\n",
    "\n",
    "clt.plot_metapop_basic_compartment_history(flu_demo_model)"
   ]
  },
  {
   "cell_type": "markdown",
   "id": "c0aa122f-6716-478c-863c-c7f09443618f",
   "metadata": {},
   "source": [
    "# Accept Reject"
   ]
  },
  {
   "cell_type": "code",
   "execution_count": 12,
   "id": "bc5062d3-e7ac-4119-9e5d-65e616544720",
   "metadata": {},
   "outputs": [],
   "source": [
    "# Distinct RNG for random sampling\n",
    "accept_reject_RNG = np.random.Generator(bit_generator.jumped(2))\n",
    "\n",
    "# See `clt_toolkit / sampling / sample_uniform_metapop_params` docstring for `sampling_spec` details.\n",
    "# Here, we want to sample `IP_relative_inf`, which is a scalar, from a Uniform[1,3] distribution.\n",
    "# We want this value to be the same across all subpopulations.\n",
    "sampling_spec = {\"all_subpop\": {\"IP_relative_inf\": clt.UniformSamplingSpec(1, 3, \"scalar\")}}\n",
    "\n",
    "# Here we will create some artificial \"target admits\".\n",
    "# We want sampled parameters that generate hospital admits close to these target admits.\n",
    "flu_demo_model.reset_simulation()\n",
    "flu_demo_model.modify_simulation_settings({\"transition_variables_to_save\": [\"IS_to_H\"]})\n",
    "flu_demo_model.simulate_until_day(50)\n",
    "\n",
    "# Transition variables' histories get saved for each timestep.\n",
    "# We use this function convert per-timestep hospital admits to per-day hospital admits.\n",
    "target_admits = clt.aggregate_daily_tvar_history(flu_demo_model, \"IS_to_H\")\n",
    "\n",
    "# Perform accept reject -- see docstring for more details and additional parameters \n",
    "#    (that are not shown because set to defaults).\n",
    "# If target admits is over 50 days, then we need to simulate 50 days for the accept-reject algorithm as well.\n",
    "flu.accept_reject_admits(flu_demo_model,\n",
    "                         accept_reject_RNG,\n",
    "                         sampling_spec,\n",
    "                         target_admits,\n",
    "                         num_days = 50,\n",
    "                         target_accepted_reps = 2,\n",
    "                         max_reps = 20)"
   ]
  },
  {
   "cell_type": "code",
   "execution_count": 13,
   "id": "241277df-9e5c-4969-9a5f-e37e23f57885",
   "metadata": {},
   "outputs": [
    {
     "name": "stdout",
     "output_type": "stream",
     "text": [
      "subpop_north_rep_1_accepted_sample_params.json\n",
      "subpop_north_rep_1_accepted_state.json\n",
      "subpop_north_rep_2_accepted_sample_params.json\n",
      "subpop_north_rep_2_accepted_state.json\n",
      "subpop_south_rep_1_accepted_sample_params.json\n",
      "subpop_south_rep_1_accepted_state.json\n",
      "subpop_south_rep_2_accepted_sample_params.json\n",
      "subpop_south_rep_2_accepted_state.json\n"
     ]
    }
   ],
   "source": [
    "# This command-line function shows the `JSON` files that `accept_reject_admits` generates.\n",
    "!ls *accepted*"
   ]
  },
  {
   "cell_type": "code",
   "execution_count": 14,
   "id": "0794e89e-e54c-4f9b-9084-f869a94901da",
   "metadata": {},
   "outputs": [
    {
     "name": "stdout",
     "output_type": "stream",
     "text": [
      "{'S': [[174092.0], [281180.0], [884299.0], [392143.0], [476414.0]], 'E': [[140945.0000263974], [451118.0000000056], [1055501.0], [396566.0000008466], [290584.0000071032]], 'IP': [[19052.90590408648], [61108.11542757577], [142854.98683696776], [53642.50903978245], [39206.66026762675]], 'IS': [[39950.10424718063], [128613.58719473658], [300186.5078889569], [112672.84949555527], [83445.95996928099]], 'IA': [[19827.10361643386], [63791.509386130376], [148907.4229491388], [55868.90376192698], [40683.01048619242]], 'H': [[238.87698371791703], [327.7676670594374], [1533.6949215435052], [971.7434248492682], [7356.61744834327]], 'R': [[1519920.3114671498], [4640884.952629312], [11029740.842375442], [4193160.1101912726], [3255476.264088372]], 'D': [[5.860786223465865], [5.860786223465865], [5.860786223465865], [5.860786223465865], [1863.2279879640469]], 'M': [[0.47003966803705494], [0.48516963698746796], [0.47783748244390395], [0.4739712931627899], [0.4566552831924237]], 'MV': [[0.002368269615963298], [0.000805560675827068], [0.0003342104638930823], [0.0008708720477463414], [0.0010805449518710472]], 'absolute_humidity': 0.013399104, 'flu_contact_matrix': [[1.41415435, 2.37024572, 3.83356137, 0.71327459, 0.35347632], [1.00728934, 10.60466906, 4.14690412, 1.08705454, 0.40621624], [0.70293355, 1.76839296, 7.78559557, 2.11908831, 0.55215071], [0.33809671, 1.19880912, 5.48841938, 3.16470291, 0.76774731], [0.27421269, 0.7469776, 2.39706181, 1.21965752, 2.01500593]], 'beta_reduce': 0.0, 'daily_vaccines': '100'}\n"
     ]
    }
   ],
   "source": [
    "# Here's the state of the \"north\" subpopulation in accepted replication #1, at simulation time 50.\n",
    "# We can load this into a `FluSubpopParams` instance and use it to create a new `FluSubpopModel` instance in the future.\n",
    "with open(\"subpop_north_rep_1_accepted_state.json\", \"r\") as f:\n",
    "    north_rep_1_state = json.load(f) \n",
    "print(north_rep_1_state)"
   ]
  },
  {
   "cell_type": "code",
   "execution_count": 15,
   "id": "5a38154c-41b1-4732-93e5-d38f3f1c6c97",
   "metadata": {},
   "outputs": [
    {
     "name": "stdout",
     "output_type": "stream",
     "text": [
      "{'IP_relative_inf': 1.35}\n",
      "{'IP_relative_inf': 1.35}\n"
     ]
    }
   ],
   "source": [
    "# Here are the SAMPLED parameters of the \"north\" and \"south\" subpop models in accepted replication #1.\n",
    "# Recall that we specified that this sampled value should be the same across all subpopulations -- and we confirm this below.\n",
    "\n",
    "with open(\"subpop_north_rep_1_accepted_sample_params.json\", \"r\") as f:\n",
    "    north_rep_1_params = json.load(f) \n",
    "print(north_rep_1_params)\n",
    "\n",
    "with open(\"subpop_south_rep_1_accepted_sample_params.json\", \"r\") as f:\n",
    "    south_rep_1_params = json.load(f) \n",
    "print(south_rep_1_params)"
   ]
  },
  {
   "cell_type": "markdown",
   "id": "d04e2b6b-f10d-43b5-8407-b2b3b58aec0f",
   "metadata": {},
   "source": [
    "# Experiments"
   ]
  },
  {
   "cell_type": "code",
   "execution_count": 16,
   "id": "0abf5423-98ea-4eb1-a67a-a152a8a3cf1a",
   "metadata": {},
   "outputs": [],
   "source": [
    "# Create an experiment class to record \"H\" and \"D\" compartment values\n",
    "experiment = clt.Experiment(model = flu_demo_model, \n",
    "                            state_variables_to_record = [\"H\", \"D\"], \n",
    "                            database_filename = \"flu_demo_H_D_results.db\")\n",
    "\n",
    "# Run the simulation for 10 independent replications, for 100 days, and save the values of\n",
    "#    \"H\" and \"D\" every 7 days. Save the results in a CSV file. \n",
    "experiment.run_static_inputs(num_reps = 10, \n",
    "                             simulation_end_day = 100, \n",
    "                             days_between_save_history = 7, \n",
    "                             results_filename = \"flu_demo_H_D_results.csv\")"
   ]
  },
  {
   "cell_type": "code",
   "execution_count": 17,
   "id": "816ac3dc-c273-48fb-8621-7fa60d55e0fc",
   "metadata": {},
   "outputs": [
    {
     "data": {
      "text/html": [
       "<div>\n",
       "<style scoped>\n",
       "    .dataframe tbody tr th:only-of-type {\n",
       "        vertical-align: middle;\n",
       "    }\n",
       "\n",
       "    .dataframe tbody tr th {\n",
       "        vertical-align: top;\n",
       "    }\n",
       "\n",
       "    .dataframe thead th {\n",
       "        text-align: right;\n",
       "    }\n",
       "</style>\n",
       "<table border=\"1\" class=\"dataframe\">\n",
       "  <thead>\n",
       "    <tr style=\"text-align: right;\">\n",
       "      <th></th>\n",
       "      <th>subpop_name</th>\n",
       "      <th>state_var_name</th>\n",
       "      <th>age_group</th>\n",
       "      <th>risk_group</th>\n",
       "      <th>rep</th>\n",
       "      <th>timepoint</th>\n",
       "      <th>value</th>\n",
       "    </tr>\n",
       "  </thead>\n",
       "  <tbody>\n",
       "    <tr>\n",
       "      <th>0</th>\n",
       "      <td>north</td>\n",
       "      <td>H</td>\n",
       "      <td>0</td>\n",
       "      <td>0</td>\n",
       "      <td>0</td>\n",
       "      <td>7</td>\n",
       "      <td>6.897341</td>\n",
       "    </tr>\n",
       "    <tr>\n",
       "      <th>1</th>\n",
       "      <td>north</td>\n",
       "      <td>H</td>\n",
       "      <td>1</td>\n",
       "      <td>0</td>\n",
       "      <td>0</td>\n",
       "      <td>7</td>\n",
       "      <td>18.812830</td>\n",
       "    </tr>\n",
       "    <tr>\n",
       "      <th>2</th>\n",
       "      <td>north</td>\n",
       "      <td>H</td>\n",
       "      <td>2</td>\n",
       "      <td>0</td>\n",
       "      <td>0</td>\n",
       "      <td>7</td>\n",
       "      <td>56.743385</td>\n",
       "    </tr>\n",
       "    <tr>\n",
       "      <th>3</th>\n",
       "      <td>north</td>\n",
       "      <td>H</td>\n",
       "      <td>3</td>\n",
       "      <td>0</td>\n",
       "      <td>0</td>\n",
       "      <td>7</td>\n",
       "      <td>28.789684</td>\n",
       "    </tr>\n",
       "    <tr>\n",
       "      <th>4</th>\n",
       "      <td>north</td>\n",
       "      <td>H</td>\n",
       "      <td>4</td>\n",
       "      <td>0</td>\n",
       "      <td>0</td>\n",
       "      <td>7</td>\n",
       "      <td>136.644885</td>\n",
       "    </tr>\n",
       "  </tbody>\n",
       "</table>\n",
       "</div>"
      ],
      "text/plain": [
       "  subpop_name state_var_name  age_group  risk_group  rep  timepoint  \\\n",
       "0       north              H          0           0    0          7   \n",
       "1       north              H          1           0    0          7   \n",
       "2       north              H          2           0    0          7   \n",
       "3       north              H          3           0    0          7   \n",
       "4       north              H          4           0    0          7   \n",
       "\n",
       "        value  \n",
       "0    6.897341  \n",
       "1   18.812830  \n",
       "2   56.743385  \n",
       "3   28.789684  \n",
       "4  136.644885  "
      ]
     },
     "execution_count": 17,
     "metadata": {},
     "output_type": "execute_result"
    }
   ],
   "source": [
    "# Here's the CSV we just created -- pretty nifty! :) \n",
    "H_D_results_df = pd.read_csv(\"flu_demo_H_D_results.csv\", index_col=0)\n",
    "\n",
    "H_D_results_df.head()"
   ]
  },
  {
   "cell_type": "code",
   "execution_count": 18,
   "id": "cabb515c-83e9-4b05-ab69-f1d2f26b155e",
   "metadata": {},
   "outputs": [
    {
     "name": "stdout",
     "output_type": "stream",
     "text": [
      "flu_demo_H_D_results.db\n"
     ]
    }
   ],
   "source": [
    "# `run_static_inputs` also creates a SQL database with the large-scale output from our experiment.\n",
    "!ls *.db*"
   ]
  },
  {
   "cell_type": "code",
   "execution_count": 19,
   "id": "4532cd0c-c134-4a91-9b3b-4023c168fa53",
   "metadata": {},
   "outputs": [
    {
     "data": {
      "text/html": [
       "<div>\n",
       "<style scoped>\n",
       "    .dataframe tbody tr th:only-of-type {\n",
       "        vertical-align: middle;\n",
       "    }\n",
       "\n",
       "    .dataframe tbody tr th {\n",
       "        vertical-align: top;\n",
       "    }\n",
       "\n",
       "    .dataframe thead th {\n",
       "        text-align: right;\n",
       "    }\n",
       "</style>\n",
       "<table border=\"1\" class=\"dataframe\">\n",
       "  <thead>\n",
       "    <tr style=\"text-align: right;\">\n",
       "      <th>timepoint</th>\n",
       "      <th>7</th>\n",
       "      <th>14</th>\n",
       "      <th>21</th>\n",
       "      <th>28</th>\n",
       "      <th>35</th>\n",
       "      <th>42</th>\n",
       "      <th>49</th>\n",
       "      <th>56</th>\n",
       "      <th>63</th>\n",
       "      <th>70</th>\n",
       "      <th>77</th>\n",
       "      <th>84</th>\n",
       "      <th>91</th>\n",
       "      <th>98</th>\n",
       "      <th>100</th>\n",
       "    </tr>\n",
       "    <tr>\n",
       "      <th>rep</th>\n",
       "      <th></th>\n",
       "      <th></th>\n",
       "      <th></th>\n",
       "      <th></th>\n",
       "      <th></th>\n",
       "      <th></th>\n",
       "      <th></th>\n",
       "      <th></th>\n",
       "      <th></th>\n",
       "      <th></th>\n",
       "      <th></th>\n",
       "      <th></th>\n",
       "      <th></th>\n",
       "      <th></th>\n",
       "      <th></th>\n",
       "    </tr>\n",
       "  </thead>\n",
       "  <tbody>\n",
       "    <tr>\n",
       "      <th>0</th>\n",
       "      <td>34279.155588</td>\n",
       "      <td>232715.155746</td>\n",
       "      <td>199015.155746</td>\n",
       "      <td>100107.155746</td>\n",
       "      <td>50594.155746</td>\n",
       "      <td>30326.155746</td>\n",
       "      <td>22063.155746</td>\n",
       "      <td>18272.155746</td>\n",
       "      <td>16173.155746</td>\n",
       "      <td>14743.155746</td>\n",
       "      <td>13572.155746</td>\n",
       "      <td>12724.155746</td>\n",
       "      <td>12043.155746</td>\n",
       "      <td>11387.155746</td>\n",
       "      <td>11249.155746</td>\n",
       "    </tr>\n",
       "    <tr>\n",
       "      <th>1</th>\n",
       "      <td>34279.155588</td>\n",
       "      <td>232715.155746</td>\n",
       "      <td>199015.155746</td>\n",
       "      <td>100107.155746</td>\n",
       "      <td>50594.155746</td>\n",
       "      <td>30326.155746</td>\n",
       "      <td>22063.155746</td>\n",
       "      <td>18272.155746</td>\n",
       "      <td>16173.155746</td>\n",
       "      <td>14743.155746</td>\n",
       "      <td>13572.155746</td>\n",
       "      <td>12724.155746</td>\n",
       "      <td>12043.155746</td>\n",
       "      <td>11387.155746</td>\n",
       "      <td>11249.155746</td>\n",
       "    </tr>\n",
       "    <tr>\n",
       "      <th>2</th>\n",
       "      <td>34279.155588</td>\n",
       "      <td>232715.155746</td>\n",
       "      <td>199015.155746</td>\n",
       "      <td>100107.155746</td>\n",
       "      <td>50594.155746</td>\n",
       "      <td>30326.155746</td>\n",
       "      <td>22063.155746</td>\n",
       "      <td>18272.155746</td>\n",
       "      <td>16173.155746</td>\n",
       "      <td>14743.155746</td>\n",
       "      <td>13572.155746</td>\n",
       "      <td>12724.155746</td>\n",
       "      <td>12043.155746</td>\n",
       "      <td>11387.155746</td>\n",
       "      <td>11249.155746</td>\n",
       "    </tr>\n",
       "    <tr>\n",
       "      <th>3</th>\n",
       "      <td>34279.155588</td>\n",
       "      <td>232715.155746</td>\n",
       "      <td>199015.155746</td>\n",
       "      <td>100107.155746</td>\n",
       "      <td>50594.155746</td>\n",
       "      <td>30326.155746</td>\n",
       "      <td>22063.155746</td>\n",
       "      <td>18272.155746</td>\n",
       "      <td>16173.155746</td>\n",
       "      <td>14743.155746</td>\n",
       "      <td>13572.155746</td>\n",
       "      <td>12724.155746</td>\n",
       "      <td>12043.155746</td>\n",
       "      <td>11387.155746</td>\n",
       "      <td>11249.155746</td>\n",
       "    </tr>\n",
       "    <tr>\n",
       "      <th>4</th>\n",
       "      <td>34279.155588</td>\n",
       "      <td>232715.155746</td>\n",
       "      <td>199015.155746</td>\n",
       "      <td>100107.155746</td>\n",
       "      <td>50594.155746</td>\n",
       "      <td>30326.155746</td>\n",
       "      <td>22063.155746</td>\n",
       "      <td>18272.155746</td>\n",
       "      <td>16173.155746</td>\n",
       "      <td>14743.155746</td>\n",
       "      <td>13572.155746</td>\n",
       "      <td>12724.155746</td>\n",
       "      <td>12043.155746</td>\n",
       "      <td>11387.155746</td>\n",
       "      <td>11249.155746</td>\n",
       "    </tr>\n",
       "    <tr>\n",
       "      <th>5</th>\n",
       "      <td>34279.155588</td>\n",
       "      <td>232715.155746</td>\n",
       "      <td>199015.155746</td>\n",
       "      <td>100107.155746</td>\n",
       "      <td>50594.155746</td>\n",
       "      <td>30326.155746</td>\n",
       "      <td>22063.155746</td>\n",
       "      <td>18272.155746</td>\n",
       "      <td>16173.155746</td>\n",
       "      <td>14743.155746</td>\n",
       "      <td>13572.155746</td>\n",
       "      <td>12724.155746</td>\n",
       "      <td>12043.155746</td>\n",
       "      <td>11387.155746</td>\n",
       "      <td>11249.155746</td>\n",
       "    </tr>\n",
       "    <tr>\n",
       "      <th>6</th>\n",
       "      <td>34279.155588</td>\n",
       "      <td>232715.155746</td>\n",
       "      <td>199015.155746</td>\n",
       "      <td>100107.155746</td>\n",
       "      <td>50594.155746</td>\n",
       "      <td>30326.155746</td>\n",
       "      <td>22063.155746</td>\n",
       "      <td>18272.155746</td>\n",
       "      <td>16173.155746</td>\n",
       "      <td>14743.155746</td>\n",
       "      <td>13572.155746</td>\n",
       "      <td>12724.155746</td>\n",
       "      <td>12043.155746</td>\n",
       "      <td>11387.155746</td>\n",
       "      <td>11249.155746</td>\n",
       "    </tr>\n",
       "    <tr>\n",
       "      <th>7</th>\n",
       "      <td>34279.155588</td>\n",
       "      <td>232715.155746</td>\n",
       "      <td>199015.155746</td>\n",
       "      <td>100107.155746</td>\n",
       "      <td>50594.155746</td>\n",
       "      <td>30326.155746</td>\n",
       "      <td>22063.155746</td>\n",
       "      <td>18272.155746</td>\n",
       "      <td>16173.155746</td>\n",
       "      <td>14743.155746</td>\n",
       "      <td>13572.155746</td>\n",
       "      <td>12724.155746</td>\n",
       "      <td>12043.155746</td>\n",
       "      <td>11387.155746</td>\n",
       "      <td>11249.155746</td>\n",
       "    </tr>\n",
       "    <tr>\n",
       "      <th>8</th>\n",
       "      <td>34279.155588</td>\n",
       "      <td>232715.155746</td>\n",
       "      <td>199015.155746</td>\n",
       "      <td>100107.155746</td>\n",
       "      <td>50594.155746</td>\n",
       "      <td>30326.155746</td>\n",
       "      <td>22063.155746</td>\n",
       "      <td>18272.155746</td>\n",
       "      <td>16173.155746</td>\n",
       "      <td>14743.155746</td>\n",
       "      <td>13572.155746</td>\n",
       "      <td>12724.155746</td>\n",
       "      <td>12043.155746</td>\n",
       "      <td>11387.155746</td>\n",
       "      <td>11249.155746</td>\n",
       "    </tr>\n",
       "    <tr>\n",
       "      <th>9</th>\n",
       "      <td>34279.155588</td>\n",
       "      <td>232715.155746</td>\n",
       "      <td>199015.155746</td>\n",
       "      <td>100107.155746</td>\n",
       "      <td>50594.155746</td>\n",
       "      <td>30326.155746</td>\n",
       "      <td>22063.155746</td>\n",
       "      <td>18272.155746</td>\n",
       "      <td>16173.155746</td>\n",
       "      <td>14743.155746</td>\n",
       "      <td>13572.155746</td>\n",
       "      <td>12724.155746</td>\n",
       "      <td>12043.155746</td>\n",
       "      <td>11387.155746</td>\n",
       "      <td>11249.155746</td>\n",
       "    </tr>\n",
       "  </tbody>\n",
       "</table>\n",
       "</div>"
      ],
      "text/plain": [
       "timepoint           7              14             21             28   \\\n",
       "rep                                                                    \n",
       "0          34279.155588  232715.155746  199015.155746  100107.155746   \n",
       "1          34279.155588  232715.155746  199015.155746  100107.155746   \n",
       "2          34279.155588  232715.155746  199015.155746  100107.155746   \n",
       "3          34279.155588  232715.155746  199015.155746  100107.155746   \n",
       "4          34279.155588  232715.155746  199015.155746  100107.155746   \n",
       "5          34279.155588  232715.155746  199015.155746  100107.155746   \n",
       "6          34279.155588  232715.155746  199015.155746  100107.155746   \n",
       "7          34279.155588  232715.155746  199015.155746  100107.155746   \n",
       "8          34279.155588  232715.155746  199015.155746  100107.155746   \n",
       "9          34279.155588  232715.155746  199015.155746  100107.155746   \n",
       "\n",
       "timepoint           35            42            49            56   \\\n",
       "rep                                                                 \n",
       "0          50594.155746  30326.155746  22063.155746  18272.155746   \n",
       "1          50594.155746  30326.155746  22063.155746  18272.155746   \n",
       "2          50594.155746  30326.155746  22063.155746  18272.155746   \n",
       "3          50594.155746  30326.155746  22063.155746  18272.155746   \n",
       "4          50594.155746  30326.155746  22063.155746  18272.155746   \n",
       "5          50594.155746  30326.155746  22063.155746  18272.155746   \n",
       "6          50594.155746  30326.155746  22063.155746  18272.155746   \n",
       "7          50594.155746  30326.155746  22063.155746  18272.155746   \n",
       "8          50594.155746  30326.155746  22063.155746  18272.155746   \n",
       "9          50594.155746  30326.155746  22063.155746  18272.155746   \n",
       "\n",
       "timepoint           63            70            77            84   \\\n",
       "rep                                                                 \n",
       "0          16173.155746  14743.155746  13572.155746  12724.155746   \n",
       "1          16173.155746  14743.155746  13572.155746  12724.155746   \n",
       "2          16173.155746  14743.155746  13572.155746  12724.155746   \n",
       "3          16173.155746  14743.155746  13572.155746  12724.155746   \n",
       "4          16173.155746  14743.155746  13572.155746  12724.155746   \n",
       "5          16173.155746  14743.155746  13572.155746  12724.155746   \n",
       "6          16173.155746  14743.155746  13572.155746  12724.155746   \n",
       "7          16173.155746  14743.155746  13572.155746  12724.155746   \n",
       "8          16173.155746  14743.155746  13572.155746  12724.155746   \n",
       "9          16173.155746  14743.155746  13572.155746  12724.155746   \n",
       "\n",
       "timepoint           91            98            100  \n",
       "rep                                                  \n",
       "0          12043.155746  11387.155746  11249.155746  \n",
       "1          12043.155746  11387.155746  11249.155746  \n",
       "2          12043.155746  11387.155746  11249.155746  \n",
       "3          12043.155746  11387.155746  11249.155746  \n",
       "4          12043.155746  11387.155746  11249.155746  \n",
       "5          12043.155746  11387.155746  11249.155746  \n",
       "6          12043.155746  11387.155746  11249.155746  \n",
       "7          12043.155746  11387.155746  11249.155746  \n",
       "8          12043.155746  11387.155746  11249.155746  \n",
       "9          12043.155746  11387.155746  11249.155746  "
      ]
     },
     "execution_count": 19,
     "metadata": {},
     "output_type": "execute_result"
    }
   ],
   "source": [
    "# Build dataframe of \"H\" state based on experiment run above (simulated 100 days, state saved every 7 days).\n",
    "# See `get_state_var_df()` docstring for details. \n",
    "# Because we do not specify `subpop_name`, `age_group`, or `risk_group`, \n",
    "#     compartment values are summed across subpopulations, ages, and risk groups.\n",
    "experiment.get_state_var_df(state_var_name = \"H\",\n",
    "                            results_filename = \"flu_demo_aggregated_H_results.csv\")"
   ]
  },
  {
   "cell_type": "code",
   "execution_count": null,
   "id": "be9ff15a-add1-4975-b1c5-b8345932b9df",
   "metadata": {},
   "outputs": [],
   "source": []
  }
 ],
 "metadata": {
  "kernelspec": {
   "display_name": "Python 3 (ipykernel)",
   "language": "python",
   "name": "python3"
  },
  "language_info": {
   "codemirror_mode": {
    "name": "ipython",
    "version": 3
   },
   "file_extension": ".py",
   "mimetype": "text/x-python",
   "name": "python",
   "nbconvert_exporter": "python",
   "pygments_lexer": "ipython3",
   "version": "3.11.12"
  }
 },
 "nbformat": 4,
 "nbformat_minor": 5
}
