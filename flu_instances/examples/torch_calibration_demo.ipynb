{
 "cells": [
  {
   "cell_type": "markdown",
   "id": "73d541d7-8f7f-4667-9190-c56cc19dc49a",
   "metadata": {},
   "source": [
    "# Calibration: using pytorch + autodiff for deterministic least squares optimization"
   ]
  },
  {
   "cell_type": "markdown",
   "id": "49ea9029-f76c-44a5-934d-6590710b191b",
   "metadata": {},
   "source": [
    "# Imports"
   ]
  },
  {
   "cell_type": "code",
   "execution_count": 1,
   "id": "d06e131f-82f0-4a53-8f04-993fadaf3e1b",
   "metadata": {},
   "outputs": [],
   "source": [
    "import torch\n",
    "import time\n",
    "import pandas as pd\n",
    "import matplotlib.pyplot as plt\n",
    "import numpy as np\n",
    "import copy\n",
    "from dataclasses import fields\n",
    "\n",
    "import clt_toolkit as clt\n",
    "import flu_core as flu\n",
    "\n",
    "from scipy.optimize import least_squares"
   ]
  },
  {
   "cell_type": "markdown",
   "id": "af4ed1f6-5276-448b-8e39-0373b20cee7f",
   "metadata": {},
   "source": [
    "# Creating metapopulation model"
   ]
  },
  {
   "cell_type": "code",
   "execution_count": 2,
   "id": "9373f347-e015-409d-9fcf-0004b1de5544",
   "metadata": {},
   "outputs": [],
   "source": [
    "############################################\n",
    "############# FILE LOADING #################\n",
    "############################################\n",
    "\n",
    "texas_files_path = clt.utils.PROJECT_ROOT / \"flu_instances\" / \"texas_input_files\"\n",
    "calibration_files_path = clt.utils.PROJECT_ROOT / \"flu_instances\" / \"calibration_research_input_files\"\n",
    "\n",
    "subpopA_init_vals_filepath = calibration_files_path / \"subpopA_init_vals.json\"\n",
    "subpopB_init_vals_filepath = calibration_files_path / \"subpopB_init_vals.json\"\n",
    "subpopC_init_vals_filepath = calibration_files_path / \"subpopC_init_vals.json\"\n",
    "\n",
    "common_subpop_params_filepath = texas_files_path / \"common_subpop_params.json\"\n",
    "mixing_params_filepath = calibration_files_path / \"ABC_mixing_params.json\"\n",
    "simulation_settings_filepath = texas_files_path / \"simulation_settings.json\"\n",
    "\n",
    "calendar_df = pd.read_csv(texas_files_path / \"school_work_calendar.csv\", index_col=0)\n",
    "humidity_df = pd.read_csv(texas_files_path / \"absolute_humidity_austin_2023_2024.csv\", index_col=0)\n",
    "vaccines_df = pd.read_csv(texas_files_path / \"daily_vaccines_constant.csv\", index_col=0)\n",
    "\n",
    "schedules_info = flu.FluSubpopSchedules(absolute_humidity=humidity_df,\n",
    "                                        flu_contact_matrix=calendar_df,\n",
    "                                        daily_vaccines=vaccines_df)\n",
    "\n",
    "subpopA_init_vals = clt.make_dataclass_from_json(subpopA_init_vals_filepath,\n",
    "                                                 flu.FluSubpopState)\n",
    "subpopB_init_vals = clt.make_dataclass_from_json(subpopB_init_vals_filepath,\n",
    "                                                 flu.FluSubpopState)\n",
    "subpopC_init_vals = clt.make_dataclass_from_json(subpopB_init_vals_filepath,\n",
    "                                                 flu.FluSubpopState)\n",
    "\n",
    "common_subpop_params = clt.make_dataclass_from_json(common_subpop_params_filepath,\n",
    "                                                    flu.FluSubpopParams)\n",
    "mixing_params = clt.make_dataclass_from_json(mixing_params_filepath,\n",
    "                                             flu.FluMixingParams)\n",
    "simulation_settings = clt.make_dataclass_from_json(simulation_settings_filepath,\n",
    "                                                   flu.SimulationSettings)\n",
    "\n",
    "L = 3\n",
    "\n",
    "\n",
    "####################################################\n",
    "############# CREATE METAPOP MODEL #################\n",
    "####################################################\n",
    "\n",
    "bit_generator = np.random.MT19937(88888)\n",
    "jumped_bit_generator = bit_generator.jumped(1)\n",
    "\n",
    "simulation_settings = clt.updated_dataclass(simulation_settings,\n",
    "                                            {\"timesteps_per_day\": 2})\n",
    "\n",
    "subpopA_params = clt.updated_dataclass(common_subpop_params,\n",
    "                                       {\"beta_baseline\": 1.5})\n",
    "subpopB_params = clt.updated_dataclass(common_subpop_params,\n",
    "                                       {\"beta_baseline\": 2.5})\n",
    "subpopC_params = clt.updated_dataclass(common_subpop_params,\n",
    "                                       {\"beta_baseline\": 2.5})\n",
    "\n",
    "# Create subpopulation models\n",
    "subpopA = flu.FluSubpopModel(subpopA_init_vals,\n",
    "                             subpopA_params,\n",
    "                             simulation_settings,\n",
    "                             np.random.Generator(bit_generator),\n",
    "                             schedules_info,\n",
    "                             name=\"subpopA\")\n",
    "\n",
    "subpopB = flu.FluSubpopModel(subpopB_init_vals,\n",
    "                             subpopB_params,\n",
    "                             simulation_settings,\n",
    "                             np.random.Generator(jumped_bit_generator),\n",
    "                             schedules_info,\n",
    "                             name=\"subpopB\")\n",
    "\n",
    "subpopC = flu.FluSubpopModel(subpopC_init_vals,\n",
    "                             subpopC_params,\n",
    "                             simulation_settings,\n",
    "                             np.random.Generator(jumped_bit_generator),\n",
    "                             schedules_info,\n",
    "                             name=\"subpopC\")\n",
    "\n",
    "# Combine subpopulations into one metapopulation model (travel model)\n",
    "flu_demo_model = flu.FluMetapopModel([subpopA, subpopB, subpopC],\n",
    "                                     mixing_params)"
   ]
  },
  {
   "cell_type": "markdown",
   "id": "1a4ad0bd-57c5-4689-b135-88f1ee900b00",
   "metadata": {},
   "source": [
    "# Getting torch inputs"
   ]
  },
  {
   "cell_type": "code",
   "execution_count": 3,
   "id": "10a2fdf0-028f-4503-a8dd-69cdfae43d1d",
   "metadata": {},
   "outputs": [],
   "source": [
    "# To get torch model inputs, the user just creates their\n",
    "#    `FluMetapopModel` (in the OOP version) normally, then \n",
    "#    extracts the torch inputs from the model like below.\n",
    "\n",
    "d = flu_demo_model.get_flu_torch_inputs()\n",
    "\n",
    "state = d[\"state_tensors\"]\n",
    "params = d[\"params_tensors\"]\n",
    "schedules = d[\"schedule_tensors\"]\n",
    "precomputed = d[\"precomputed\"]\n",
    "\n",
    "# Save the initial state!\n",
    "init_state = copy.deepcopy(state)\n",
    "\n",
    "# Need fresh copies of the state and params to pass to the optimization\n",
    "opt_state = copy.deepcopy(state)\n",
    "opt_params = copy.deepcopy(params)"
   ]
  },
  {
   "cell_type": "code",
   "execution_count": 4,
   "id": "ee31216c-8577-4c87-8b73-6938ea4424ba",
   "metadata": {},
   "outputs": [
    {
     "name": "stdout",
     "output_type": "stream",
     "text": [
      "tensor([[[1.5000],\n",
      "         [1.5000],\n",
      "         [1.5000],\n",
      "         [1.5000],\n",
      "         [1.5000]],\n",
      "\n",
      "        [[2.5000],\n",
      "         [2.5000],\n",
      "         [2.5000],\n",
      "         [2.5000],\n",
      "         [2.5000]],\n",
      "\n",
      "        [[2.5000],\n",
      "         [2.5000],\n",
      "         [2.5000],\n",
      "         [2.5000],\n",
      "         [2.5000]]], dtype=torch.float64)\n"
     ]
    }
   ],
   "source": [
    "# See `flu_data_structures` for more details. Specifically, look at the dataclasses with tensors.\n",
    "\n",
    "# torch deals with tensors -- for each input dataclass, each field is an L x A x R tensor\n",
    "# For torch, which is functional rather than object-oriented (to preserve the computational graph for derivatives), we no longer work with\n",
    "#    L (for L subpopulations) A x R arrays -- we work with L x A x R tensors directly. \n",
    "print(params.beta_baseline)"
   ]
  },
  {
   "cell_type": "code",
   "execution_count": 5,
   "id": "bd4fa2aa-94ba-40e8-8c36-07f86a67d423",
   "metadata": {},
   "outputs": [
    {
     "name": "stdout",
     "output_type": "stream",
     "text": [
      "Intel MKL WARNING: Support of Intel(R) Streaming SIMD Extensions 4.2 (Intel(R) SSE4.2) enabled only processors has been deprecated. Intel oneAPI Math Kernel Library 2025.0 will require Intel(R) Advanced Vector Extensions (Intel(R) AVX) instructions.\n"
     ]
    }
   ],
   "source": [
    "# Generate \"true\" history\n",
    "true_admits_history = flu.torch_simulate_hospital_admits(state,\n",
    "                                                           params,\n",
    "                                                           precomputed,\n",
    "                                                           schedules,\n",
    "                                                           100,\n",
    "                                                           2).clone().detach()"
   ]
  },
  {
   "cell_type": "markdown",
   "id": "ec4b72b0-510c-4330-848f-1bb8339a93f3",
   "metadata": {},
   "source": [
    "# Defining optimization method and parameters"
   ]
  },
  {
   "cell_type": "code",
   "execution_count": 6,
   "id": "0eb76c80-e76f-4cda-b882-02ae9ddf474f",
   "metadata": {},
   "outputs": [],
   "source": [
    "# IMPORTANT: BROADCASTING TRICK! Reduce the number of free parameters while still working with tensors of the right shape. \n",
    "# `beta_baseline` is L x A x R -- but we only want there to be L=3 betas\n",
    "#   (one for each subpopulation) -- so, we create a new variable\n",
    "#   `beta_baseline_raw` to force the optimization to only optimize over L=3\n",
    "#   parameters, not have full degrees of freedom and change L x A x R betas\n",
    "# WE MUST TELL TORCH TO TRACK THE GRADIENT ON THE PARAMETERS WE WANT TO\n",
    "#   OPTIMIZE! see `requires_grad = True`\n",
    "opt_params.beta_baseline_raw = torch.tensor([1.4, 2.0, 2.0], dtype=torch.float64, requires_grad=True)\n",
    "\n",
    "# Create an optimizer with the \"Adam\" algorithm, and tell the optimize we want to optimize `beta_baseline_raw` (3 variables). \n",
    "# In general, we should play around with the learning rate or do hyperparameter optimization to choose a good optimization configuration.\n",
    "optimizer = torch.optim.Adam([opt_params.beta_baseline_raw], lr=0.01)"
   ]
  },
  {
   "cell_type": "markdown",
   "id": "e611f72e-60e1-4353-8019-37d5a3eb3fd8",
   "metadata": {},
   "source": [
    "# Optimization loop"
   ]
  },
  {
   "cell_type": "code",
   "execution_count": 7,
   "id": "1f748385-4a9e-463b-8e3c-9667bf26daaa",
   "metadata": {},
   "outputs": [
    {
     "name": "stdout",
     "output_type": "stream",
     "text": [
      "Adam iterations: 0\n",
      "Elapsed time (sec): 0.96\n",
      "Loss function: tensor(27.7781, dtype=torch.float64, grad_fn=<MseLossBackward0>)\n",
      "Estimated betas: tensor([1.4100, 2.0100, 2.0100], dtype=torch.float64, requires_grad=True)\n",
      "Grad tensor([-306.3249,  -21.7511,  -33.5780], dtype=torch.float64)\n",
      "Grad ~~~~~~~~~~~~~~~~~~~~~~~~~~~~~~~~~~~~~~~~~~~~~~~~~~~~~~~~~~~~~~~\n",
      "Adam iterations: 50\n",
      "Elapsed time (sec): 45.65\n",
      "Loss function: tensor(0.6558, dtype=torch.float64, grad_fn=<MseLossBackward0>)\n",
      "Estimated betas: tensor([1.5028, 2.3898, 2.3294], dtype=torch.float64, requires_grad=True)\n",
      "Grad tensor([-17.0227,  -3.6323,  -5.5906], dtype=torch.float64)\n",
      "Grad ~~~~~~~~~~~~~~~~~~~~~~~~~~~~~~~~~~~~~~~~~~~~~~~~~~~~~~~~~~~~~~~\n"
     ]
    }
   ],
   "source": [
    "# Note: only running the optimization for 100 iterations so that it runs quickly in Jupyter Notebook.\n",
    "# Try playing around with 1k, 10k, etc... iterations!\n",
    "\n",
    "beta_baseline_history = []\n",
    "IS_to_H_adjusted_prop_history = []\n",
    "loss_history = []\n",
    "fitting_start_time = time.time()\n",
    "\n",
    "for i in range(int(1e2)):\n",
    "    optimizer.zero_grad()\n",
    "\n",
    "    # IMPORTANT: we make `beta_baseline` a reshaped + broadcasted view of `beta_baseline_raw` here -- this is the\n",
    "    #    broadcasting trick described previously. This is gradient safe! Reshaping + new view is gradient safe. It's not literally\n",
    "    #    copying the tensor (copying would NOT be gradient safe). \n",
    "    opt_params.beta_baseline = opt_params.beta_baseline_raw.view(L, 1, 1).expand(L, 5, 1)\n",
    "    sim_result = flu.torch_simulate_hospital_admits(init_state, opt_params, precomputed, schedules, 100, 2)\n",
    "    loss = torch.nn.functional.mse_loss(sim_result, true_admits_history)\n",
    "    loss.backward()\n",
    "    optimizer.step()\n",
    "    if i % 50 == 0:\n",
    "        print(\"Adam iterations: \" + str(i))\n",
    "        print(\"Elapsed time (sec): \" + str(round(time.time() - fitting_start_time, 2)))\n",
    "        print(\"Loss function: \" + str(loss))\n",
    "        print(\"Estimated betas: \" + str(opt_params.beta_baseline_raw))\n",
    "        print(\"Grad \" + str(opt_params.beta_baseline_raw.grad))\n",
    "        print(\"Grad \" + str(\"~~~~~~~~~~~~~~~~~~~~~~~~~~~~~~~~~~~~~~~~~~~~~~~~~~~~~~~~~~~~~~~\"))\n",
    "        loss_history.append(loss)\n",
    "        beta_baseline_history.append(opt_params.beta_baseline_raw.clone())\n",
    "    if loss < 1e-2:\n",
    "        break"
   ]
  },
  {
   "cell_type": "code",
   "execution_count": 8,
   "id": "f2661721-402f-45be-b199-14ed5f982c05",
   "metadata": {},
   "outputs": [
    {
     "name": "stdout",
     "output_type": "stream",
     "text": [
      "tensor([[[1.5024],\n",
      "         [1.5024],\n",
      "         [1.5024],\n",
      "         [1.5024],\n",
      "         [1.5024]],\n",
      "\n",
      "        [[2.4973],\n",
      "         [2.4973],\n",
      "         [2.4973],\n",
      "         [2.4973],\n",
      "         [2.4973]],\n",
      "\n",
      "        [[2.4634],\n",
      "         [2.4634],\n",
      "         [2.4634],\n",
      "         [2.4634],\n",
      "         [2.4634]]], dtype=torch.float64, grad_fn=<AsStridedBackward0>)\n"
     ]
    }
   ],
   "source": [
    "# Pretty good! Our true beta values were 1.5, 2.5, and 2.5 for our 3 subpopulations.\n",
    "print(opt_params.beta_baseline)"
   ]
  },
  {
   "cell_type": "code",
   "execution_count": 9,
   "id": "a21a1a84-ed03-44eb-9ca7-ec7b79d4ca55",
   "metadata": {},
   "outputs": [
    {
     "data": {
      "image/png": "[encoded data removed]",
      "text/plain": [
       "<Figure size 640x480 with 1 Axes>"
      ]
     },
     "metadata": {},
     "output_type": "display_data"
    }
   ],
   "source": [
    "# Can simulate with fitted parameters and plot corresponding output\n",
    "fitted_admits_history = flu.torch_simulate_hospital_admits(init_state, opt_params, precomputed, schedules, 100, 2)\n",
    "ta_baseline = opt_params.beta_baseline_raw.view(L, 1, 1).expand(L, 5, 1)\n",
    "\n",
    "plt.clf()\n",
    "plt.plot(torch.sum(true_admits_history, dim=(1, 2)), label=\"True hospital admits\")\n",
    "plt.plot(torch.sum(fitted_admits_history.clone().detach(), dim=(1, 2)), label=\"Fitted hospital admits\")\n",
    "plt.legend()\n",
    "plt.show()"
   ]
  }
 ],
 "metadata": {
  "kernelspec": {
   "display_name": "Python 3 (ipykernel)",
   "language": "python",
   "name": "python3"
  },
  "language_info": {
   "codemirror_mode": {
    "name": "ipython",
    "version": 3
   },
   "file_extension": ".py",
   "mimetype": "text/x-python",
   "name": "python",
   "nbconvert_exporter": "python",
   "pygments_lexer": "ipython3",
   "version": "3.11.12"
  }
 },
 "nbformat": 4,
 "nbformat_minor": 5
}
